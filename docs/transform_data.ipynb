{
 "cells": [
  {
   "cell_type": "code",
   "execution_count": null,
   "metadata": {
    "collapsed": true
   },
   "outputs": [],
   "source": [
    "import json\n",
    "import math\n",
    "import operator\n",
    "from collections import OrderedDict\n",
    "\n",
    "import pandas as pd"
   ]
  },
  {
   "cell_type": "markdown",
   "metadata": {},
   "source": [
    "## Generate value_maps.json\n",
    "\n",
    "Before using this cell, please, save a copy of the ODS file as CSV with name `value_maps.csv`."
   ]
  },
  {
   "cell_type": "code",
   "execution_count": null,
   "metadata": {},
   "outputs": [],
   "source": [
    "df = pd.read_csv('value_maps.csv', header=0, skiprows=3)\n",
    "for col in df.columns.values:\n",
    "    if col.startswith('Unnamed'):\n",
    "        del df[col]\n",
    "\n",
    "\n",
    "def from_fractional(x):\n",
    "    if '/' in x:\n",
    "        num, den = x.split('/')\n",
    "        return float(num) / float(den)\n",
    "    else:\n",
    "        return float(x)\n",
    "\n",
    "\n",
    "def clean_EFXthC(x):\n",
    "    if x == 'off':\n",
    "        return float(999)\n",
    "    else:\n",
    "        return float(x)\n",
    "\n",
    "\n",
    "value_maps_json = {}\n",
    "for col in df.columns.values:\n",
    "    if col == 'CLA000':\n",
    "        d = (df[col] * 0.01).tolist()\n",
    "    elif col == 'OSCprt':\n",
    "        d = [from_fractional(x) for x in df[col]]\n",
    "    elif col == 'EFXthC':\n",
    "        d = [clean_EFXthC(x) for x in df[col]]\n",
    "    else:\n",
    "        d = [x for x in df[col]]\n",
    "    # weird hack to leave only 3 decimals\n",
    "    value_maps_json[col] = [float(f'{round(x, 3):.3f}') for x in d if not math.isnan(x)]\n",
    "value_maps_json['MID000'] = [x for x in range(128)]\n",
    "value_maps_json['BUT002'] = [x for x in range(2)]\n",
    "value_maps_json['BUT003'] = [x for x in range(3)]\n",
    "value_maps_json['BUT004'] = [x for x in range(4)]\n",
    "value_maps_json['BUT005'] = [x for x in range(5)]\n",
    "value_maps_json['BUT006'] = [x for x in range(6)]\n",
    "value_maps_json['BUT007'] = [x for x in range(7)]\n",
    "value_maps_json['BUT008'] = [x for x in range(8)]\n",
    "\n",
    "value_maps_json = OrderedDict(sorted(value_maps_json.items(), key=operator.itemgetter(0)))\n",
    "with open('../pch2csd/resources/value_maps.json', 'w') as f:\n",
    "    json.dump(value_maps_json, f, indent=True)"
   ]
  }
 ],
 "metadata": {
  "kernelspec": {
   "display_name": "Python 3",
   "language": "python",
   "name": "python3"
  },
  "language_info": {
   "codemirror_mode": {
    "name": "ipython",
    "version": 3.0
   },
   "file_extension": ".py",
   "mimetype": "text/x-python",
   "name": "python",
   "nbconvert_exporter": "python",
   "pygments_lexer": "ipython3",
   "version": "3.6.1"
  }
 },
 "nbformat": 4,
 "nbformat_minor": 0
}